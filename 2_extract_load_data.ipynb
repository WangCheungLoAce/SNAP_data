{
 "cells": [
  {
   "cell_type": "code",
   "execution_count": 8,
   "metadata": {},
   "outputs": [],
   "source": [
    "import zipfile\n",
    "import os\n",
    "import shutil\n",
    "import pandas as pd"
   ]
  },
  {
   "cell_type": "code",
   "execution_count": 9,
   "metadata": {},
   "outputs": [
    {
     "name": "stdout",
     "output_type": "stream",
     "text": [
      "Zip extraction to CSV ('raw_extracted.csv') done.\n"
     ]
    }
   ],
   "source": [
    "# Path to your zip file\n",
    "zip_file_path = r\"C:\\Users\\ace4e\\Desktop\\CIS 9440\\Homework\\historical-snap-retailer-locator-data-2023.12.31.zip\"\n",
    "\n",
    "# Directory to extract the files\n",
    "extract_dir = r\"C:\\Users\\ace4e\\Desktop\\CIS 9440\\Homework\"\n",
    "\n",
    "# Create the extraction directory if it doesn't exist\n",
    "os.makedirs(extract_dir, exist_ok=True)\n",
    "\n",
    "# Extract CSV file from the zip archive\n",
    "with zipfile.ZipFile(zip_file_path, 'r') as zip_ref:\n",
    "    # Assuming there's only one CSV file in the zip, extract the first one found\n",
    "    csv_file = [f for f in zip_ref.namelist() if f.endswith('.csv')][0]\n",
    "    zip_ref.extract(csv_file, extract_dir)\n",
    "\n",
    "# Path to the extracted CSV file\n",
    "extracted_csv_path = os.path.join(extract_dir, csv_file)\n",
    "\n",
    "# Path to the destination CSV file (\"raw_extracted.csv\")\n",
    "renamed_csv_path = os.path.join(extract_dir, 'raw_extracted.csv')\n",
    "\n",
    "# Move the extracted CSV file to the destination, replacing if already exists\n",
    "shutil.move(extracted_csv_path, renamed_csv_path)\n",
    "\n",
    "# Load the renamed CSV file into a DataFrame\n",
    "df = pd.read_csv(renamed_csv_path)\n",
    "\n",
    "# Display a message indicating extraction and loading completion\n",
    "print(\"Zip extraction to CSV ('raw_extracted.csv') done.\")\n"
   ]
  },
  {
   "cell_type": "code",
   "execution_count": 10,
   "metadata": {},
   "outputs": [
    {
     "name": "stdout",
     "output_type": "stream",
     "text": [
      "<class 'pandas.core.frame.DataFrame'>\n",
      "RangeIndex: 996559 entries, 0 to 996558\n",
      "Data columns (total 15 columns):\n",
      " #   Column              Non-Null Count   Dtype  \n",
      "---  ------              --------------   -----  \n",
      " 0   Record ID           996559 non-null  int64  \n",
      " 1   Store Name          996559 non-null  object \n",
      " 2   Store Type          996559 non-null  object \n",
      " 3   Street Number       996435 non-null  object \n",
      " 4   Street Name         995798 non-null  object \n",
      " 5   Additional Address  910831 non-null  object \n",
      " 6   City                996558 non-null  object \n",
      " 7   State               996559 non-null  object \n",
      " 8   Zip Code            996559 non-null  int64  \n",
      " 9   Zip4                996559 non-null  object \n",
      " 10  County              996556 non-null  object \n",
      " 11  Latitude            996559 non-null  float64\n",
      " 12  Longitude           996559 non-null  float64\n",
      " 13  Authorization Date  996559 non-null  object \n",
      " 14  End Date            996559 non-null  object \n",
      "dtypes: float64(2), int64(2), object(11)\n",
      "memory usage: 114.0+ MB\n",
      "None\n"
     ]
    }
   ],
   "source": [
    "# Display the DataFrame info\n",
    "print(df.info())"
   ]
  },
  {
   "cell_type": "code",
   "execution_count": 11,
   "metadata": {},
   "outputs": [
    {
     "name": "stdout",
     "output_type": "stream",
     "text": [
      "   Record ID                     Store Name                 Store Type  \\\n",
      "0     785740           ADAK GENERAL STORE            Convenience Store   \n",
      "1     512036  Alaska Commercial Company 325  Combination Grocery/Other   \n",
      "2     758776  Alaska Commercial Company 220  Combination Grocery/Other   \n",
      "3     672376       ALEUTIAN COMMERCIAL CO    Combination Grocery/Other   \n",
      "4     309052   ALEUTIAN COMMERCIAL CO INC          Large Grocery Store   \n",
      "\n",
      "  Street Number    Street Name Additional Address        City State  Zip Code  \\\n",
      "0         42311  FINGER BAY RD                           ADAK    AK     99546   \n",
      "1             1     BAYVIEW DR                      KING COVE    AK     99612   \n",
      "2           100        Main St                NaN  Sand Point    AK     99661   \n",
      "3           100           MAIN                     SAND POINT    AK     99661   \n",
      "4           100        MAIN ST                     SAND POINT    AK     99661   \n",
      "\n",
      "   Zip4          County  Latitude  Longitude Authorization Date    End Date  \n",
      "0  2036  ALEUTIANS EAST  51.84434  -176.6284         05/08/2006  03/01/2016  \n",
      "1        ALEUTIANS EAST  55.05876  -162.3134         02/02/1999              \n",
      "2  9800  ALEUTIANS EAST  55.33546  -160.4955         07/05/2005              \n",
      "3        ALEUTIANS EAST   0.00000     0.0000         01/26/1973  07/29/1993  \n",
      "4        ALEUTIANS EAST  55.30257  -160.4045         07/28/1993  07/11/2005  \n"
     ]
    }
   ],
   "source": [
    "print(df.head())"
   ]
  }
 ],
 "metadata": {
  "kernelspec": {
   "display_name": "Python 3",
   "language": "python",
   "name": "python3"
  },
  "language_info": {
   "codemirror_mode": {
    "name": "ipython",
    "version": 3
   },
   "file_extension": ".py",
   "mimetype": "text/x-python",
   "name": "python",
   "nbconvert_exporter": "python",
   "pygments_lexer": "ipython3",
   "version": "3.11.4"
  }
 },
 "nbformat": 4,
 "nbformat_minor": 2
}
