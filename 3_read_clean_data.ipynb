{
 "cells": [
  {
   "cell_type": "code",
   "execution_count": 6,
   "metadata": {},
   "outputs": [],
   "source": [
    "import os\n",
    "import pandas as pd\n",
    "import shutil"
   ]
  },
  {
   "cell_type": "code",
   "execution_count": 7,
   "metadata": {},
   "outputs": [
    {
     "name": "stdout",
     "output_type": "stream",
     "text": [
      "Cleaned data successfully saved as \"raw_cleaned.csv\"\n",
      "***********************************************************\n",
      "<class 'pandas.core.frame.DataFrame'>\n",
      "Index: 995674 entries, 0 to 996558\n",
      "Data columns (total 15 columns):\n",
      " #   Column              Non-Null Count   Dtype  \n",
      "---  ------              --------------   -----  \n",
      " 0   Record ID           995674 non-null  int64  \n",
      " 1   Store Name          995674 non-null  object \n",
      " 2   Store Type          995674 non-null  object \n",
      " 3   Street Number       995674 non-null  object \n",
      " 4   Street Name         995674 non-null  object \n",
      " 5   Additional Address  909975 non-null  object \n",
      " 6   City                995674 non-null  object \n",
      " 7   State               995674 non-null  object \n",
      " 8   Zip Code            995674 non-null  int64  \n",
      " 9   Zip4                995674 non-null  object \n",
      " 10  County              995671 non-null  object \n",
      " 11  Latitude            995674 non-null  float64\n",
      " 12  Longitude           995674 non-null  float64\n",
      " 13  Authorization Date  995674 non-null  object \n",
      " 14  End Date            995674 non-null  object \n",
      "dtypes: float64(2), int64(2), object(11)\n",
      "memory usage: 121.5+ MB\n",
      "None\n"
     ]
    }
   ],
   "source": [
    "# Path to the renamed CSV file (assuming it's in the current working directory)\n",
    "csv_file_path = \"raw_extracted.csv\"\n",
    "\n",
    "# Check if the CSV file exists\n",
    "if not os.path.exists(csv_file_path):\n",
    "    print(f\"Error: '{csv_file_path}' does not exist.\")\n",
    "    exit()\n",
    "\n",
    "# Load the CSV file into a DataFrame\n",
    "df = pd.read_csv(csv_file_path)\n",
    "\n",
    "# Define the list of columns to check for null values\n",
    "required_columns = ['Street Number', 'Street Name', 'City', 'State', 'Zip Code']\n",
    "\n",
    "# Drop rows where any of the required columns contain null values\n",
    "df_cleaned = df.dropna(subset=required_columns, how='any')\n",
    "\n",
    "# Path to save the cleaned CSV file\n",
    "cleaned_csv_path = \"raw_cleaned.csv\"\n",
    "\n",
    "# Save the cleaned DataFrame to a new CSV file, replacing if already exists\n",
    "df_cleaned.to_csv(cleaned_csv_path, index=False, mode='w')\n",
    "\n",
    "print('Cleaned data successfully saved as \"raw_cleaned.csv\"')\n",
    "print('***********************************************************')\n",
    "print(df_cleaned.info())"
   ]
  }
 ],
 "metadata": {
  "kernelspec": {
   "display_name": "Python 3",
   "language": "python",
   "name": "python3"
  },
  "language_info": {
   "codemirror_mode": {
    "name": "ipython",
    "version": 3
   },
   "file_extension": ".py",
   "mimetype": "text/x-python",
   "name": "python",
   "nbconvert_exporter": "python",
   "pygments_lexer": "ipython3",
   "version": "3.11.4"
  }
 },
 "nbformat": 4,
 "nbformat_minor": 2
}
